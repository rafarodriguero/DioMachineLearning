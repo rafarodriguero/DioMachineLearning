{
  "cells": [
    {
      "cell_type": "markdown",
      "metadata": {
        "id": "view-in-github",
        "colab_type": "text"
      },
      "source": [
        "<a href=\"https://colab.research.google.com/github/rafarodriguero/DioMachineLearning/blob/main/DesafioTransferLearning.ipynb\" target=\"_parent\"><img src=\"https://colab.research.google.com/assets/colab-badge.svg\" alt=\"Open In Colab\"/></a>"
      ]
    },
    {
      "cell_type": "code",
      "execution_count": 4,
      "metadata": {
        "id": "pQz_jjdjSb-f"
      },
      "outputs": [],
      "source": [
        "import os\n",
        "\n",
        "import random\n",
        "import tensorflow as tf\n",
        "import zipfile\n",
        "\n",
        "import matplotlib.image as mpimg\n",
        "import matplotlib.pyplot as plt\n",
        "\n",
        "from tensorflow.keras.optimizers import RMSprop\n",
        "from tensorflow.keras.preprocessing.image import ImageDataGenerator\n",
        "\n",
        "from shutil import copyfile"
      ]
    },
    {
      "cell_type": "code",
      "execution_count": 5,
      "metadata": {
        "colab": {
          "base_uri": "https://localhost:8080/"
        },
        "id": "7kuKPs2xFgNj",
        "outputId": "3e902366-9463-4a16-daf5-781182f57b59"
      },
      "outputs": [
        {
          "output_type": "stream",
          "name": "stdout",
          "text": [
            "DELETANDO OS ARQUIVOS EM /tmp/cats-v-dogs/testing/cats\n",
            "Diretório :/tmp/cats-v-dogs/testing/cats não existe\n",
            "DELETANDO OS ARQUIVOS EM /tmp/cats-v-dogs/testing/dogs\n",
            "Diretório :/tmp/cats-v-dogs/testing/dogs não existe\n",
            "DELETANDO OS ARQUIVOS EM /tmp/cats-v-dogs/training/cats\n",
            "Diretório :/tmp/cats-v-dogs/training/cats não existe\n",
            "DELETANDO OS ARQUIVOS EM /tmp/cats-v-dogs/training/dogs\n",
            "Diretório :/tmp/cats-v-dogs/training/dogs não existe\n",
            "DELETANDO OS ARQUIVOS EM /tmp/cats-v-dogs/training\n",
            "Diretório :/tmp/cats-v-dogs/training não existe\n",
            "DELETANDO OS ARQUIVOS EM /tmp/cats-v-dogs/testing\n",
            "Diretório :/tmp/cats-v-dogs/testing não existe\n",
            "DELETANDO OS ARQUIVOS EM /tmp/cats-v-dogs\n",
            "Diretório :/tmp/cats-v-dogs não existe\n",
            "DELETANDO OS ARQUIVOS EM /tmp/PetImages/Cat\n",
            "Diretório :/tmp/PetImages/Cat não existe\n",
            "DELETANDO OS ARQUIVOS EM /tmp/PetImages/Dog\n",
            "Diretório :/tmp/PetImages/Dog não existe\n",
            "DELETANDO OS ARQUIVOS EM /tmp/PetImages\n",
            "Diretório :/tmp/PetImages não existe\n"
          ]
        }
      ],
      "source": [
        "def remove_files (SOURCE):\n",
        "  print('DELETANDO OS ARQUIVOS EM '+SOURCE)\n",
        "  if os.path.exists(SOURCE):\n",
        "    if len(os.listdir(SOURCE)) > 0:\n",
        "      for filename in os.listdir(SOURCE):\n",
        "        file = SOURCE +'/'+ filename\n",
        "        os.remove(file)\n",
        "      else:\n",
        "        print('Não existem arquivos no diretório: '+SOURCE)\n",
        "    os.rmdir(SOURCE)\n",
        "  else:\n",
        "    print('Diretório :'+SOURCE+' não existe')\n",
        "\n",
        "remove_files('/tmp/cats-v-dogs/testing/cats')\n",
        "remove_files('/tmp/cats-v-dogs/testing/dogs')\n",
        "remove_files('/tmp/cats-v-dogs/training/cats')\n",
        "remove_files('/tmp/cats-v-dogs/training/dogs')\n",
        "remove_files('/tmp/cats-v-dogs/training')\n",
        "remove_files('/tmp/cats-v-dogs/testing')\n",
        "remove_files('/tmp/cats-v-dogs')\n",
        "\n",
        "remove_files('/tmp/PetImages/Cat')\n",
        "remove_files('/tmp/PetImages/Dog')\n",
        "remove_files('/tmp/PetImages')\n",
        "\n",
        "try:\n",
        "  os.mkdir('/tmp/cats-v-dogs')\n",
        "  os.mkdir('/tmp/cats-v-dogs/training')\n",
        "  os.mkdir('/tmp/cats-v-dogs/testing')\n",
        "  os.mkdir('/tmp/cats-v-dogs/training/cats')\n",
        "  os.mkdir('/tmp/cats-v-dogs/training/dogs')\n",
        "  os.mkdir('/tmp/cats-v-dogs/testing/cats')\n",
        "  os.mkdir('/tmp/cats-v-dogs/testing/dogs')\n",
        "except OSError:\n",
        "  pass"
      ]
    },
    {
      "cell_type": "code",
      "execution_count": 6,
      "metadata": {
        "colab": {
          "base_uri": "https://localhost:8080/"
        },
        "id": "j1852-s7TCsq",
        "outputId": "5e02c88b-4e2b-43b7-be07-710afdc80d41"
      },
      "outputs": [
        {
          "output_type": "stream",
          "name": "stdout",
          "text": [
            "download do arquivo zip de base de fotos\n",
            "######################################################################## 100.0%\n"
          ]
        }
      ],
      "source": [
        "!echo \"download do arquivo zip de base de fotos\"\n",
        "\n",
        "!curl -L -o /tmp/cats-and-dogs.zip --progress-bar https://download.microsoft.com/download/3/E/1/3E1C3F21-ECDB-4869-8368-6DEBA77B919F/kagglecatsanddogs_5340.zip\n",
        "\n",
        "local_zip = '/tmp/cats-and-dogs.zip'\n",
        "zip_ref = zipfile.ZipFile(local_zip, 'r')\n",
        "zip_ref.extractall('/tmp')\n",
        "zip_ref.close()"
      ]
    },
    {
      "cell_type": "code",
      "execution_count": 7,
      "metadata": {
        "colab": {
          "base_uri": "https://localhost:8080/"
        },
        "id": "G7Dh1AjZ-jK4",
        "outputId": "2f3ca2c9-cd15-421e-a5b0-ea633b565b74"
      },
      "outputs": [
        {
          "output_type": "stream",
          "name": "stdout",
          "text": [
            "12501\n",
            "12501\n"
          ]
        }
      ],
      "source": [
        "print(len(os.listdir('/tmp/PetImages/Cat')))\n",
        "print(len(os.listdir('/tmp/PetImages/Dog')))"
      ]
    },
    {
      "cell_type": "code",
      "execution_count": 8,
      "metadata": {
        "colab": {
          "base_uri": "https://localhost:8080/"
        },
        "id": "uiwoJ77bAEjH",
        "outputId": "e48c8dc2-6982-4c10-ce1c-6bee13a38004"
      },
      "outputs": [
        {
          "output_type": "stream",
          "name": "stdout",
          "text": [
            "666.jpgArquivo Ignorado, tamanho zero\n",
            "11702.jpgArquivo Ignorado, tamanho zero\n"
          ]
        }
      ],
      "source": [
        "def split_data(SOURCE, TRAINING, TESTING, SPLIT_SIZE):\n",
        "  files = []\n",
        "  for filename in os.listdir(SOURCE):\n",
        "    file = SOURCE + filename\n",
        "    if os.path.getsize(file) > 0:\n",
        "      files.append(filename)\n",
        "    else:\n",
        "      print(filename + \"Arquivo Ignorado, tamanho zero\")\n",
        "\n",
        "  training_length = int(len(files) * SPLIT_SIZE)\n",
        "  testing_length = int(len(files) - training_length)\n",
        "  shuffled_set = random.sample(files, len(files))\n",
        "  training_set = shuffled_set[0:training_length]\n",
        "  testing_set = shuffled_set[-testing_length:]\n",
        "\n",
        "  \n",
        "  for filename in training_set:\n",
        "    this_file = SOURCE + filename\n",
        "    destination = TRAINING + filename\n",
        "    copyfile(this_file, destination)\n",
        "\n",
        "  for filename2 in testing_set:\n",
        "    this_file = SOURCE + filename2\n",
        "    destination = TESTING + filename2\n",
        "    copyfile(this_file, destination)\n",
        "\n",
        "\n",
        "CAT_SOURCE_DIR = \"/tmp/PetImages/Cat/\"\n",
        "TRAINING_CATS_DIR = \"/tmp/cats-v-dogs/training/cats/\"\n",
        "TESTING_CATS_DIR = \"/tmp/cats-v-dogs/testing/cats/\"\n",
        "DOG_SOURCE_DIR = \"/tmp/PetImages/Dog/\"\n",
        "TRAINING_DOGS_DIR = \"/tmp/cats-v-dogs/training/dogs/\"\n",
        "TESTING_DOGS_DIR = \"/tmp/cats-v-dogs/testing/dogs/\"\n",
        "\n",
        "split_size = .9\n",
        "split_data (CAT_SOURCE_DIR, TRAINING_CATS_DIR, TESTING_CATS_DIR, split_size)\n",
        "split_data (DOG_SOURCE_DIR, TRAINING_DOGS_DIR, TESTING_DOGS_DIR, split_size)\n"
      ]
    },
    {
      "cell_type": "code",
      "execution_count": 9,
      "metadata": {
        "colab": {
          "base_uri": "https://localhost:8080/"
        },
        "id": "yV7W4xlBD4DQ",
        "outputId": "ef231e9f-6275-43fa-f5b3-63dc36931a5d"
      },
      "outputs": [
        {
          "output_type": "stream",
          "name": "stdout",
          "text": [
            "11250\n",
            "11250\n",
            "1250\n",
            "1250\n"
          ]
        }
      ],
      "source": [
        "print(len(os.listdir('/tmp/cats-v-dogs/training/cats')))\n",
        "print(len(os.listdir('/tmp/cats-v-dogs/training/dogs')))\n",
        "print(len(os.listdir('/tmp/cats-v-dogs/testing/cats')))\n",
        "print(len(os.listdir('/tmp/cats-v-dogs/testing/dogs')))"
      ]
    },
    {
      "cell_type": "code",
      "execution_count": 10,
      "metadata": {
        "id": "jaCNdpsw_AK1"
      },
      "outputs": [],
      "source": [
        "model = tf.keras.models.Sequential([\n",
        "    tf.keras.layers.Conv2D(16, (3, 3), activation='relu', input_shape=(150, 150, 3)),\n",
        "    tf.keras.layers.MaxPooling2D(2, 2),\n",
        "    tf.keras.layers.Conv2D(32, (3, 3), activation='relu'),\n",
        "    tf.keras.layers.MaxPooling2D(2, 2),\n",
        "    tf.keras.layers.Conv2D(64, (3, 3), activation='relu'),\n",
        "    tf.keras.layers.MaxPooling2D(2, 2),\n",
        "    tf.keras.layers.Flatten(),\n",
        "    tf.keras.layers.Dense(512, activation='relu'),\n",
        "    tf.keras.layers.Dense(1, activation='sigmoid')\n",
        "])\n",
        "\n",
        "model.compile(optimizer=tf.keras.optimizers.Adam(learning_rate=1e-3),\n",
        "              loss=tf.keras.losses.BinaryCrossentropy(),\n",
        "              metrics=[tf.keras.metrics.BinaryAccuracy(),\n",
        "                       tf.keras.metrics.FalseNegatives()])"
      ]
    },
    {
      "cell_type": "code",
      "execution_count": 11,
      "metadata": {
        "colab": {
          "base_uri": "https://localhost:8080/"
        },
        "id": "NlPJfsgf4Xuj",
        "outputId": "69c13842-cbd6-4a09-9fad-561036255a58"
      },
      "outputs": [
        {
          "output_type": "stream",
          "name": "stdout",
          "text": [
            "Found 22498 images belonging to 2 classes.\n",
            "Found 2500 images belonging to 2 classes.\n"
          ]
        }
      ],
      "source": [
        "TRAINING_DIR = '/tmp/cats-v-dogs/training/'\n",
        "train_datagen = ImageDataGenerator(rescale=1.0/255.)\n",
        "train_generator = train_datagen.flow_from_directory(TRAINING_DIR,\n",
        "                                                    batch_size=250,\n",
        "                                                    class_mode='binary',\n",
        "                                                    target_size=(150,150))\n",
        "\n",
        "VALIDATION_DIR = '/tmp/cats-v-dogs/testing/'\n",
        "validation_datagen = ImageDataGenerator(rescale=1.0/255.)\n",
        "validation_generator = train_datagen.flow_from_directory(VALIDATION_DIR,\n",
        "                                                    batch_size=250,\n",
        "                                                    class_mode='binary',\n",
        "                                                    target_size=(150,150))"
      ]
    },
    {
      "cell_type": "code",
      "execution_count": 12,
      "metadata": {
        "colab": {
          "base_uri": "https://localhost:8080/"
        },
        "id": "EVqucIHH5pwU",
        "outputId": "c9232cba-73de-4d71-fcf8-943314225a27"
      },
      "outputs": [
        {
          "output_type": "stream",
          "name": "stdout",
          "text": [
            "Epoch 1/15\n",
            "25/30 [========================>.....] - ETA: 3s - loss: 0.7901 - binary_accuracy: 0.5253 - false_negatives: 1179.0000"
          ]
        },
        {
          "output_type": "stream",
          "name": "stderr",
          "text": [
            "/usr/local/lib/python3.7/dist-packages/PIL/TiffImagePlugin.py:770: UserWarning: Possibly corrupt EXIF data.  Expecting to read 32 bytes but only got 0. Skipping tag 270\n",
            "  \" Skipping tag %s\" % (size, len(data), tag)\n",
            "/usr/local/lib/python3.7/dist-packages/PIL/TiffImagePlugin.py:770: UserWarning: Possibly corrupt EXIF data.  Expecting to read 5 bytes but only got 0. Skipping tag 271\n",
            "  \" Skipping tag %s\" % (size, len(data), tag)\n",
            "/usr/local/lib/python3.7/dist-packages/PIL/TiffImagePlugin.py:770: UserWarning: Possibly corrupt EXIF data.  Expecting to read 8 bytes but only got 0. Skipping tag 272\n",
            "  \" Skipping tag %s\" % (size, len(data), tag)\n",
            "/usr/local/lib/python3.7/dist-packages/PIL/TiffImagePlugin.py:770: UserWarning: Possibly corrupt EXIF data.  Expecting to read 8 bytes but only got 0. Skipping tag 282\n",
            "  \" Skipping tag %s\" % (size, len(data), tag)\n",
            "/usr/local/lib/python3.7/dist-packages/PIL/TiffImagePlugin.py:770: UserWarning: Possibly corrupt EXIF data.  Expecting to read 8 bytes but only got 0. Skipping tag 283\n",
            "  \" Skipping tag %s\" % (size, len(data), tag)\n",
            "/usr/local/lib/python3.7/dist-packages/PIL/TiffImagePlugin.py:770: UserWarning: Possibly corrupt EXIF data.  Expecting to read 20 bytes but only got 0. Skipping tag 306\n",
            "  \" Skipping tag %s\" % (size, len(data), tag)\n",
            "/usr/local/lib/python3.7/dist-packages/PIL/TiffImagePlugin.py:770: UserWarning: Possibly corrupt EXIF data.  Expecting to read 48 bytes but only got 0. Skipping tag 532\n",
            "  \" Skipping tag %s\" % (size, len(data), tag)\n",
            "/usr/local/lib/python3.7/dist-packages/PIL/TiffImagePlugin.py:788: UserWarning: Corrupt EXIF data.  Expecting to read 2 bytes but only got 0. \n",
            "  warnings.warn(str(msg))\n"
          ]
        },
        {
          "output_type": "stream",
          "name": "stdout",
          "text": [
            "30/30 [==============================] - 41s 887ms/step - loss: 0.7737 - binary_accuracy: 0.5273 - false_negatives: 1603.0000 - val_loss: 0.6796 - val_binary_accuracy: 0.5720 - val_false_negatives: 568.0000\n",
            "Epoch 2/15\n",
            "30/30 [==============================] - 27s 891ms/step - loss: 0.6640 - binary_accuracy: 0.5816 - false_negatives: 973.0000 - val_loss: 0.6347 - val_binary_accuracy: 0.6607 - val_false_negatives: 256.0000\n",
            "Epoch 3/15\n",
            "30/30 [==============================] - 27s 886ms/step - loss: 0.6183 - binary_accuracy: 0.6611 - false_negatives: 1276.0000 - val_loss: 0.6252 - val_binary_accuracy: 0.6500 - val_false_negatives: 277.0000\n",
            "Epoch 4/15\n",
            "30/30 [==============================] - 27s 891ms/step - loss: 0.5840 - binary_accuracy: 0.6861 - false_negatives: 1204.0000 - val_loss: 0.5847 - val_binary_accuracy: 0.6853 - val_false_negatives: 329.0000\n",
            "Epoch 5/15\n",
            "30/30 [==============================] - 26s 882ms/step - loss: 0.5686 - binary_accuracy: 0.7003 - false_negatives: 1156.0000 - val_loss: 0.5925 - val_binary_accuracy: 0.6920 - val_false_negatives: 384.0000\n",
            "Epoch 6/15\n",
            "30/30 [==============================] - 26s 877ms/step - loss: 0.5307 - binary_accuracy: 0.7336 - false_negatives: 1085.0000 - val_loss: 0.5405 - val_binary_accuracy: 0.7220 - val_false_negatives: 268.0000\n",
            "Epoch 7/15\n",
            "30/30 [==============================] - 27s 903ms/step - loss: 0.4841 - binary_accuracy: 0.7626 - false_negatives: 974.0000 - val_loss: 0.5303 - val_binary_accuracy: 0.7387 - val_false_negatives: 119.0000\n",
            "Epoch 8/15\n",
            "30/30 [==============================] - 26s 885ms/step - loss: 0.4846 - binary_accuracy: 0.7662 - false_negatives: 934.0000 - val_loss: 0.4983 - val_binary_accuracy: 0.7593 - val_false_negatives: 238.0000\n",
            "Epoch 9/15\n",
            "30/30 [==============================] - 26s 874ms/step - loss: 0.4521 - binary_accuracy: 0.7843 - false_negatives: 845.0000 - val_loss: 0.5235 - val_binary_accuracy: 0.7453 - val_false_negatives: 283.0000\n",
            "Epoch 10/15\n",
            "30/30 [==============================] - 27s 918ms/step - loss: 0.4486 - binary_accuracy: 0.7870 - false_negatives: 851.0000 - val_loss: 0.4762 - val_binary_accuracy: 0.7667 - val_false_negatives: 200.0000\n",
            "Epoch 11/15\n",
            "30/30 [==============================] - 26s 881ms/step - loss: 0.4106 - binary_accuracy: 0.8150 - false_negatives: 710.0000 - val_loss: 0.5117 - val_binary_accuracy: 0.7500 - val_false_negatives: 249.0000\n",
            "Epoch 12/15\n",
            "30/30 [==============================] - 26s 861ms/step - loss: 0.4077 - binary_accuracy: 0.8117 - false_negatives: 743.0000 - val_loss: 0.4826 - val_binary_accuracy: 0.7660 - val_false_negatives: 119.0000\n",
            "Epoch 13/15\n",
            "30/30 [==============================] - 26s 867ms/step - loss: 0.3879 - binary_accuracy: 0.8233 - false_negatives: 656.0000 - val_loss: 0.4922 - val_binary_accuracy: 0.7560 - val_false_negatives: 110.0000\n",
            "Epoch 14/15\n",
            "30/30 [==============================] - 26s 869ms/step - loss: 0.3773 - binary_accuracy: 0.8324 - false_negatives: 656.0000 - val_loss: 0.5070 - val_binary_accuracy: 0.7640 - val_false_negatives: 158.0000\n",
            "Epoch 15/15\n",
            "30/30 [==============================] - 27s 898ms/step - loss: 0.3556 - binary_accuracy: 0.8413 - false_negatives: 581.0000 - val_loss: 0.5138 - val_binary_accuracy: 0.7600 - val_false_negatives: 282.0000\n"
          ]
        }
      ],
      "source": [
        "history = model.fit(train_generator, epochs=15, steps_per_epoch=30,\n",
        "                    validation_data=validation_generator, validation_steps=6)"
      ]
    },
    {
      "cell_type": "code",
      "execution_count": 13,
      "metadata": {
        "colab": {
          "base_uri": "https://localhost:8080/"
        },
        "id": "eXefBAkQq8sS",
        "outputId": "155ecb23-ef09-4cf2-8b8f-580b73583a3c"
      },
      "outputs": [
        {
          "output_type": "stream",
          "name": "stdout",
          "text": [
            "{'loss': [0.7736954689025879, 0.6639530062675476, 0.6182724237442017, 0.5840485095977783, 0.5686204433441162, 0.530655562877655, 0.4841269850730896, 0.48457327485084534, 0.45207709074020386, 0.44856780767440796, 0.4105571508407593, 0.4077061116695404, 0.38789114356040955, 0.37727153301239014, 0.3555617332458496], 'binary_accuracy': [0.5273333191871643, 0.5816217660903931, 0.6611096262931824, 0.6861333250999451, 0.7002666592597961, 0.7336000204086304, 0.7626033425331116, 0.766204297542572, 0.7842666506767273, 0.7870098948478699, 0.8150173425674438, 0.8117333054542542, 0.8233333230018616, 0.8323553204536438, 0.8413333296775818], 'false_negatives': [1603.0, 973.0, 1276.0, 1204.0, 1156.0, 1085.0, 974.0, 934.0, 845.0, 851.0, 710.0, 743.0, 656.0, 656.0, 581.0], 'val_loss': [0.6795597672462463, 0.6346961259841919, 0.6252117156982422, 0.5846524238586426, 0.592465877532959, 0.5405184030532837, 0.5303359031677246, 0.49834614992141724, 0.5234827995300293, 0.4762074053287506, 0.5117202997207642, 0.4825509786605835, 0.4922477900981903, 0.5070487856864929, 0.513773500919342], 'val_binary_accuracy': [0.5720000267028809, 0.6606666445732117, 0.6499999761581421, 0.6853333115577698, 0.6919999718666077, 0.722000002861023, 0.7386666536331177, 0.7593333125114441, 0.7453333139419556, 0.7666666507720947, 0.75, 0.765999972820282, 0.7559999823570251, 0.7639999985694885, 0.7599999904632568], 'val_false_negatives': [568.0, 256.0, 277.0, 329.0, 384.0, 268.0, 119.0, 238.0, 283.0, 200.0, 249.0, 119.0, 110.0, 158.0, 282.0]}\n"
          ]
        }
      ],
      "source": [
        "print(history.history)"
      ]
    },
    {
      "cell_type": "code",
      "execution_count": 14,
      "metadata": {
        "colab": {
          "base_uri": "https://localhost:8080/",
          "height": 580
        },
        "id": "wH2St4bi-qRg",
        "outputId": "07c7bac7-8ad8-4e34-f4dc-86fc626f4701"
      },
      "outputs": [
        {
          "output_type": "execute_result",
          "data": {
            "text/plain": [
              "<Figure size 432x288 with 0 Axes>"
            ]
          },
          "metadata": {},
          "execution_count": 14
        },
        {
          "output_type": "display_data",
          "data": {
            "text/plain": [
              "<Figure size 432x288 with 1 Axes>"
            ],
            "image/png": "[encoded data removed]"
          },
          "metadata": {
            "needs_background": "light"
          }
        },
        {
          "output_type": "display_data",
          "data": {
            "text/plain": [
              "<Figure size 432x288 with 1 Axes>"
            ],
            "image/png": "[encoded data removed]"
          },
          "metadata": {
            "needs_background": "light"
          }
        },
        {
          "output_type": "display_data",
          "data": {
            "text/plain": [
              "<Figure size 432x288 with 0 Axes>"
            ]
          },
          "metadata": {}
        }
      ],
      "source": [
        "%matplotlib inline\n",
        "\n",
        "acc = history.history['binary_accuracy']\n",
        "val_acc=history.history['val_binary_accuracy']\n",
        "loss=history.history['loss']\n",
        "val_loss=history.history['val_loss']\n",
        "\n",
        "epochs=range(len(acc))\n",
        "\n",
        "plt.plot(epochs, acc, 'r', 'Training Accuracy')\n",
        "plt.plot(epochs, val_acc, 'b', 'Validation Accuracy')\n",
        "plt.title('Training and Validation Accuracy')\n",
        "plt.figure()\n",
        "\n",
        "\n",
        "plt.plot(epochs, loss, 'r', 'Training Loss')\n",
        "plt.plot(epochs, val_loss, 'b', 'Validation Loss')\n",
        "plt.title('Training and Validation Loss')\n",
        "plt.figure()\n"
      ]
    }
  ],
  "metadata": {
    "accelerator": "GPU",
    "colab": {
      "name": "DesafioTransferLearning.ipynb",
      "provenance": [],
      "authorship_tag": "ABX9TyOFhy0BXR2j4Rd+9txAAFW9",
      "include_colab_link": true
    },
    "gpuClass": "standard",
    "kernelspec": {
      "display_name": "Python 3",
      "name": "python3"
    },
    "language_info": {
      "name": "python"
    }
  },
  "nbformat": 4,
  "nbformat_minor": 0
}